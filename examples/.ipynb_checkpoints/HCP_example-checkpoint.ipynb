{
 "cells": [
  {
   "cell_type": "code",
   "execution_count": 1,
   "metadata": {},
   "outputs": [],
   "source": [
    "import numpy as np\n",
    "import h5py\n",
    "import pkg_resources\n",
    "import sys\n",
    "sys.path.insert(0, '../../')\n",
    "\n",
    "import ActflowToolbox as actflow\n",
    "\n",
    "actflow_example_dir = pkg_resources.resource_filename('ActflowToolbox.examples', 'HCP_example_data/')\n",
    "\n",
    "subjNums = ['100206','108020','117930','126325','133928','143224','153934','164636','174437',\n",
    "            '183034','194443','204521','212823','268749','322224','385450','463040','529953',\n",
    "            '587664','656253','731140','814548','877269','978578','100408','108222','118124',\n",
    "            '126426','134021','144832']\n",
    "numsubjs=np.shape(subjNums)[0]\n",
    "numnodes=360\n",
    "numtimepoints=1195\n"
   ]
  },
  {
   "cell_type": "code",
   "execution_count": 2,
   "metadata": {},
   "outputs": [],
   "source": [
    "#Load data\n",
    "#Preprocessed as described here: https://doi.org/10.1101/560730\n",
    "\n",
    "#Load resting-state fMRI data; 30 HCP subjects, one run of resting-state fMRI each\n",
    "restdata=np.zeros((numnodes,numtimepoints,numsubjs))\n",
    "scount = 0\n",
    "for subj in subjNums:\n",
    "    file_path=actflow_example_dir + 'HCP_example_restrun1_subj' + subj + '_data' + '.h5'\n",
    "    h5f = h5py.File(file_path,'r')\n",
    "    dataid = 'restdata'\n",
    "    restdata[:,:,scount] = h5f[dataid][:]\n",
    "    h5f.close()\n",
    "    scount += 1\n",
    "\n",
    "#Load task GLM activations; 30 HCP subjects, 24 task conditions\n",
    "file_path=actflow_example_dir + 'HCP_example_taskactivations_data' + '.h5'\n",
    "h5f = h5py.File(file_path,'r')\n",
    "dataid = 'taskbeta'\n",
    "activations_bycond = h5f[dataid][:]\n",
    "h5f.close()\n"
   ]
  },
  {
   "cell_type": "code",
   "execution_count": null,
   "metadata": {},
   "outputs": [
    {
     "name": "stdout",
     "output_type": "stream",
     "text": [
      "==Activity flow mapping results, correlation-based resting-state FC, 24 task conditions==\n"
     ]
    }
   ],
   "source": [
    "#Run activity flow mapping with Pearson correlation FC\n",
    "restFC_corr=np.zeros((numnodes,numnodes,numsubjs))\n",
    "scount=0\n",
    "for subj in subjNums:\n",
    "    restFC_corr[:,:,scount]=actflow.connectivity_estimation.corrcoefconn(restdata[:,:,scount])\n",
    "    scount += 1\n",
    "print(\"==Activity flow mapping results, correlation-based resting-state FC, 24 task conditions==\")\n",
    "actflowOutput_restFCCorr_bycond = actflow.actflowcomp.actflowtest(activations_bycond, restFC_corr, print_by_condition=False)\n"
   ]
  },
  {
   "cell_type": "code",
   "execution_count": null,
   "metadata": {},
   "outputs": [],
   "source": [
    "%%time\n",
    "#Run activity flow mapping with ten subjects (to reduce processing time)\n",
    "restFC_mreg_10subjs=np.zeros((numnodes,numnodes,10))\n",
    "for scount in np.arange(10):\n",
    "    restFC_mreg_10subjs[:,:,scount]=actflow.connectivity_estimation.multregconn(restdata[:,:,scount])\n",
    "print(\"==Activity flow mapping results, multiple-regression-based resting-state FC, 24 task conditions; 10 subjects==\")\n",
    "actflowOutput_restFCMReg_bycond_10subjs = actflow.actflowcomp.actflowtest(activations_bycond[:,:,0:10], restFC_mreg_10subjs, print_by_condition=False)\n"
   ]
  },
  {
   "cell_type": "code",
   "execution_count": null,
   "metadata": {},
   "outputs": [],
   "source": [
    "print(\"===Compare resting-state multregFC actflow predictions to resting-state corrFC actflow prediction, 10 subjects only===\")\n",
    "model_compare_RestMultRegFCVsRestCorrFC_Actflow = actflow.model_compare(target_actvect=actflowOutput_restFCCorr_bycond['actVect_actual_group'][:,:,0:10], model1_actvect=actflowOutput_restFCMReg_bycond_10subjs['actPredVector_bytask_bysubj'], model2_actvect=actflowOutput_restFCCorr_bycond['actPredVector_bytask_bysubj'][:,:,0:10], full_report=True, print_report=True, print_by_condition=False)\n"
   ]
  },
  {
   "cell_type": "code",
   "execution_count": null,
   "metadata": {},
   "outputs": [],
   "source": []
  }
 ],
 "metadata": {
  "kernelspec": {
   "display_name": "Python 3",
   "language": "python",
   "name": "python3"
  },
  "language_info": {
   "codemirror_mode": {
    "name": "ipython",
    "version": 3
   },
   "file_extension": ".py",
   "mimetype": "text/x-python",
   "name": "python",
   "nbconvert_exporter": "python",
   "pygments_lexer": "ipython3",
   "version": "3.7.3"
  }
 },
 "nbformat": 4,
 "nbformat_minor": 2
}
