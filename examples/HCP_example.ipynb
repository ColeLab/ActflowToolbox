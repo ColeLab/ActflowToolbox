{
 "cells": [
  {
   "cell_type": "code",
   "execution_count": 1,
   "metadata": {},
   "outputs": [],
   "source": [
    "import numpy as np\n",
    "import h5py\n",
    "import pkg_resources\n",
    "import sys\n",
    "sys.path.insert(0, '../../')\n",
    "\n",
    "import ActflowToolbox as actflow\n",
    "\n",
    "actflow_example_dir = pkg_resources.resource_filename('ActflowToolbox.examples', 'HCP_example_data/')\n",
    "\n",
    "subjNums = ['100206','108020','117930','126325','133928','143224','153934','164636','174437',\n",
    "            '183034','194443','204521','212823','268749','322224','385450','463040','529953',\n",
    "            '587664','656253','731140','814548','877269','978578','100408','108222','118124',\n",
    "            '126426','134021','144832']\n",
    "numsubjs=np.shape(subjNums)[0]\n",
    "numnodes=360\n",
    "numtimepoints=1195\n"
   ]
  },
  {
   "cell_type": "code",
   "execution_count": 2,
   "metadata": {},
   "outputs": [],
   "source": [
    "#Load data\n",
    "#Preprocessed as described here: https://doi.org/10.1101/560730\n",
    "\n",
    "#Load resting-state fMRI data; 30 HCP subjects, one run of resting-state fMRI each\n",
    "restdata=np.zeros((numnodes,numtimepoints,numsubjs))\n",
    "scount = 0\n",
    "for subj in subjNums:\n",
    "    file_path=actflow_example_dir + 'HCP_example_restrun1_subj' + subj + '_data' + '.h5'\n",
    "    h5f = h5py.File(file_path,'r')\n",
    "    dataid = 'restdata'\n",
    "    restdata[:,:,scount] = h5f[dataid][:]\n",
    "    h5f.close()\n",
    "    scount += 1\n",
    "\n",
    "#Load task GLM activations; 30 HCP subjects, 24 task conditions\n",
    "file_path=actflow_example_dir + 'HCP_example_taskactivations_data' + '.h5'\n",
    "h5f = h5py.File(file_path,'r')\n",
    "dataid = 'taskbeta'\n",
    "activations_bycond = h5f[dataid][:]\n",
    "h5f.close()\n"
   ]
  },
  {
   "cell_type": "code",
   "execution_count": 3,
   "metadata": {},
   "outputs": [
    {
     "name": "stdout",
     "output_type": "stream",
     "text": [
      "==Activity flow mapping results, correlation-based resting-state FC, 24 task conditions==\n",
      "===Comparing prediction accuracies between models (similarity between predicted and actual brain activation patterns)===\n",
      " \n",
      "==Condition-wise correlations between predicted and actual activation patterns (calculated for each node separetely):==\n",
      "--Compare-then-average (calculating prediction accuracies before cross-subject averaging):\n",
      "Each correlation based on N conditions: 24, p-values based on N subjects (cross-subject variance in correlations): 30\n",
      "Mean Pearson r=0.62, t-value vs. 0: 42.28, p-value vs. 0: 1.3083678230624174e-27\n",
      "Mean rank-correlation rho=0.50, t-value vs. 0: 48.81, p-value vs. 0: 2.145198536668705e-29\n",
      " \n",
      "==Condition-wise correlations between predicted and actual activation patterns (calculated for each node separetely):==\n",
      "--Average-then-compare (calculating prediction accuracies after cross-subject averaging):\n",
      "Each correlation based on N conditions: 24\n",
      "Mean Pearson r=0.61\n",
      "Mean rank-correlation rho=0.40\n",
      " \n",
      "==Node-wise (spatial) correlations between predicted and actual activation patterns (calculated for each condition separetely):==\n",
      "--Compare-then-average (calculating prediction accuracies before cross-subject averaging):\n",
      "Each correlation based on N nodes: 360, p-values based on N subjects (cross-subject variance in correlations): 30\n",
      "Cross-condition mean r=0.55, t-value vs. 0: 36.01, p-value vs. 0: 1.263355399593128e-25\n",
      " \n",
      "==Node-wise (spatial) correlations between predicted and actual activation patterns (calculated for each condition separetely):==\n",
      "--Average-then-compare (calculating prediction accuracies after cross-subject averaging):\n",
      "Each correlation based on N nodes: 360, p-values based on N subjects (cross-subject variance in correlations): 30\n",
      "Mean r=0.69\n"
     ]
    }
   ],
   "source": [
    "#Run activity flow mapping with Pearson correlation FC\n",
    "restFC_corr=np.zeros((numnodes,numnodes,numsubjs))\n",
    "scount=0\n",
    "for subj in subjNums:\n",
    "    restFC_corr[:,:,scount]=actflow.connectivity_estimation.corrcoefconn(restdata[:,:,scount])\n",
    "    scount += 1\n",
    "print(\"==Activity flow mapping results, correlation-based resting-state FC, 24 task conditions==\")\n",
    "actflowOutput_restFCCorr_bycond = actflow.actflowcomp.actflowtest(activations_bycond, restFC_corr, print_by_condition=False)\n"
   ]
  },
  {
   "cell_type": "code",
   "execution_count": 4,
   "metadata": {},
   "outputs": [
    {
     "name": "stdout",
     "output_type": "stream",
     "text": [
      "==Activity flow mapping results, multiple-regression-based resting-state FC, 24 task conditions; 10 subjects==\n",
      "===Comparing prediction accuracies between models (similarity between predicted and actual brain activation patterns)===\n",
      " \n",
      "==Condition-wise correlations between predicted and actual activation patterns (calculated for each node separetely):==\n",
      "--Compare-then-average (calculating prediction accuracies before cross-subject averaging):\n",
      "Each correlation based on N conditions: 24, p-values based on N subjects (cross-subject variance in correlations): 10\n",
      "Mean Pearson r=0.81, t-value vs. 0: 43.28, p-value vs. 0: 9.362569560473511e-12\n",
      "Mean rank-correlation rho=0.67, t-value vs. 0: 46.04, p-value vs. 0: 5.3808266275310385e-12\n",
      " \n",
      "==Condition-wise correlations between predicted and actual activation patterns (calculated for each node separetely):==\n",
      "--Average-then-compare (calculating prediction accuracies after cross-subject averaging):\n",
      "Each correlation based on N conditions: 24\n",
      "Mean Pearson r=0.93\n",
      "Mean rank-correlation rho=0.82\n",
      " \n",
      "==Node-wise (spatial) correlations between predicted and actual activation patterns (calculated for each condition separetely):==\n",
      "--Compare-then-average (calculating prediction accuracies before cross-subject averaging):\n",
      "Each correlation based on N nodes: 360, p-values based on N subjects (cross-subject variance in correlations): 10\n",
      "Cross-condition mean r=0.74, t-value vs. 0: 40.18, p-value vs. 0: 1.8247852644135297e-11\n",
      " \n",
      "==Node-wise (spatial) correlations between predicted and actual activation patterns (calculated for each condition separetely):==\n",
      "--Average-then-compare (calculating prediction accuracies after cross-subject averaging):\n",
      "Each correlation based on N nodes: 360, p-values based on N subjects (cross-subject variance in correlations): 10\n",
      "Mean r=0.92\n",
      "CPU times: user 47min 29s, sys: 1min 24s, total: 48min 53s\n",
      "Wall time: 2min 37s\n"
     ]
    }
   ],
   "source": [
    "%%time\n",
    "#Run activity flow mapping with ten subjects (to reduce processing time)\n",
    "restFC_mreg_10subjs=np.zeros((numnodes,numnodes,10))\n",
    "for scount in np.arange(10):\n",
    "    restFC_mreg_10subjs[:,:,scount]=actflow.connectivity_estimation.multregconn(restdata[:,:,scount])\n",
    "print(\"==Activity flow mapping results, multiple-regression-based resting-state FC, 24 task conditions; 10 subjects==\")\n",
    "actflowOutput_restFCMReg_bycond_10subjs = actflow.actflowcomp.actflowtest(activations_bycond[:,:,0:10], restFC_mreg_10subjs, print_by_condition=False)\n"
   ]
  },
  {
   "cell_type": "code",
   "execution_count": 5,
   "metadata": {},
   "outputs": [
    {
     "name": "stdout",
     "output_type": "stream",
     "text": [
      "===Compare resting-state multregFC actflow predictions to resting-state corrFC actflow prediction, 10 subjects only===\n",
      "===Comparing prediction accuracies between models (similarity between predicted and actual brain activation patterns)===\n",
      " \n",
      "==Condition-wise correlations between predicted and actual activation patterns (calculated for each node separetely):==\n",
      "--Compare-then-average (calculating prediction accuracies before cross-subject averaging):\n",
      "Each correlation based on N conditions: 24, p-values based on N subjects (cross-subject variance in correlations): 10\n",
      "Model1 mean Pearson r=0.81\n",
      "Model2 mean Pearson r=0.62\n",
      "R-value difference = 0.19\n",
      "Model1 vs. Model2 T-value: 12.46, p-value: 5.572065132326254e-07\n",
      "Model1 mean rank-correlation rho=0.76\n",
      "Model2 mean rank-correlation rho=0.57\n",
      "Rho-value difference = 0.19\n",
      "Model1 vs. Model2 T-value: 12.70, p-value: 4.7575249396238666e-07\n",
      " \n",
      "==Condition-wise correlations between predicted and actual activation patterns (calculated for each node separetely):==\n",
      "--Average-then-compare (calculating prediction accuracies after cross-subject averaging):\n",
      "Each correlation based on N conditions: 24\n",
      "Model1 Mean Pearson r=0.93\n",
      "Model2 Mean Pearson r=0.63\n",
      "R-value difference = 0.29\n",
      " \n",
      "==Node-wise (spatial) correlations between predicted and actual activation patterns (calculated for each condition separetely):==\n",
      "--Compare-then-average (calculating prediction accuracies before cross-subject averaging):\n",
      "Each correlation based on N nodes: 360, p-values based on N subjects (cross-subject variance in correlations): 10\n",
      "Model1 mean Pearson r=0.74\n",
      "Model2 mean Pearson r=0.56\n",
      "R-value difference = 0.18\n",
      "Model1 vs. Model2 T-value: 21.83, p-value: 4.185118497632039e-09\n",
      " \n",
      "==Node-wise (spatial) correlations between predicted and actual activation patterns (calculated for each condition separetely):==\n",
      "--Average-then-compare (calculating prediction accuracies after cross-subject averaging):\n",
      "Each correlation based on N nodes: 360, p-values based on N subjects (cross-subject variance in correlations): 10\n",
      "Mean Model1 r=0.92\n",
      "Mean Model2 r=0.67\n",
      "Mean Model1 vs. Model2 R-value difference=0.25\n"
     ]
    }
   ],
   "source": [
    "print(\"===Compare resting-state multregFC actflow predictions to resting-state corrFC actflow prediction, 10 subjects only===\")\n",
    "model_compare_RestMultRegFCVsRestCorrFC_Actflow = actflow.model_compare(target_actvect=actflowOutput_restFCCorr_bycond['actVect_actual_group'][:,:,0:10], model1_actvect=actflowOutput_restFCMReg_bycond_10subjs['actPredVector_bytask_bysubj'], model2_actvect=actflowOutput_restFCCorr_bycond['actPredVector_bytask_bysubj'][:,:,0:10], full_report=True, print_report=True, print_by_condition=False)\n"
   ]
  },
  {
   "cell_type": "code",
   "execution_count": null,
   "metadata": {},
   "outputs": [],
   "source": []
  }
 ],
 "metadata": {
  "kernelspec": {
   "display_name": "Python 3",
   "language": "python",
   "name": "python3"
  },
  "language_info": {
   "codemirror_mode": {
    "name": "ipython",
    "version": 3
   },
   "file_extension": ".py",
   "mimetype": "text/x-python",
   "name": "python",
   "nbconvert_exporter": "python",
   "pygments_lexer": "ipython3",
   "version": "3.7.3"
  }
 },
 "nbformat": 4,
 "nbformat_minor": 2
}
